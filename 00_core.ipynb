{
 "cells": [
  {
   "cell_type": "code",
   "execution_count": null,
   "metadata": {},
   "outputs": [],
   "source": [
    "# default_exp process_bson"
   ]
  },
  {
   "cell_type": "markdown",
   "metadata": {},
   "source": [
    "# Process BSON\n",
    "\n",
    "> Script to process BSON data into JPGs. Ideas from [here](https://www.kaggle.com/inversion/processing-bson-files/notebook)."
   ]
  },
  {
   "cell_type": "code",
   "execution_count": null,
   "metadata": {},
   "outputs": [],
   "source": [
    "#hide\n",
    "from nbdev.showdoc import *"
   ]
  },
  {
   "cell_type": "code",
   "execution_count": null,
   "metadata": {},
   "outputs": [],
   "source": [
    "#export\n",
    "import pandas as pd\n",
    "from fastcore.all import *\n",
    "import io\n",
    "import bson\n",
    "from PIL import Image\n",
    "import multiprocessing as mp"
   ]
  },
  {
   "cell_type": "code",
   "execution_count": null,
   "metadata": {},
   "outputs": [],
   "source": [
    "#export\n",
    "NCORE = mp.cpu_count()"
   ]
  },
  {
   "cell_type": "code",
   "execution_count": null,
   "metadata": {},
   "outputs": [],
   "source": [
    "#export\n",
    "def get_process_func(product2category, save_dir, is_test):\n",
    "    def process_product(q, iolock):\n",
    "            \"\"\"Saves images in product and returns id and category.\"\"\"\n",
    "            while True:\n",
    "                product = q.get()\n",
    "                if product is None: break\n",
    "                if not is_test: product2category[product[\"_id\"]] = product[\"category_id\"]\n",
    "                for i, img in enumerate(product[\"imgs\"]):\n",
    "                    picture = Image.open(io.BytesIO(img[\"picture\"]))\n",
    "                    picture.save(save_dir/f\"{product['_id']}_{i}.jpg\")\n",
    "    return process_product"
   ]
  },
  {
   "cell_type": "code",
   "execution_count": null,
   "metadata": {},
   "outputs": [],
   "source": [
    "#export\n",
    "@call_parse\n",
    "def bson_to_jpeg(\n",
    "    path: Param(\"Path to BSON\", Path),\n",
    "):\n",
    "    \"\"\"Coverts BSON to JPGs and saves product id to category mapping as CSV.\"\"\"\n",
    "    path = Path(path)\n",
    "    save_dir = path.parent/\"images\"\n",
    "    save_dir.mkdir(exist_ok=True)\n",
    "    csv_save_path = path.parent/f\"{path.stem}.csv\"\n",
    "    is_test = path.stem == \"test\"\n",
    "    print(f\"Converting {path} to JPGs in {save_dir}. Mapping saved in {csv_save_path}\")\n",
    "    \n",
    "    with mp.Manager() as manager:\n",
    "        product2category = manager.dict()\n",
    "        q = mp.Queue()\n",
    "        iolock = mp.Lock()\n",
    "        pool = mp.Pool(NCORE, initializer=get_process_func(product2category, save_dir, is_test), initargs=(q, iolock))\n",
    "        for product in bson.decode_file_iter(path.open(\"rb\")): q.put(product)\n",
    "        for _ in range(NCORE):                                 q.put(None)\n",
    "        pool.close()\n",
    "        pool.join()\n",
    "        product2category = dict(product2category)\n",
    "\n",
    "    columns = [\"_id\"]\n",
    "    if not is_test: columns.append(\"category_id\")\n",
    "    df = pd.DataFrame.from_dict(product2category, orient=\"index\")\n",
    "    df.index.name = \"_id\"\n",
    "    if not is_test: df.rename(columns={0: 'category_id'}, inplace=True)\n",
    "    df.to_csv(csv_save_path)\n",
    "    print(\"Completed successfully.\")\n",
    "    return df"
   ]
  },
  {
   "cell_type": "code",
   "execution_count": null,
   "metadata": {},
   "outputs": [
    {
     "name": "stdout",
     "output_type": "stream",
     "text": [
      "Converting data/train_example.bson to JPGs in data/images. Mapping saved in data/train_example.csv\n",
      "CPU times: user 38.8 ms, sys: 110 ms, total: 149 ms\n",
      "Wall time: 187 ms\n"
     ]
    },
    {
     "data": {
      "text/html": [
       "<div>\n",
       "<style scoped>\n",
       "    .dataframe tbody tr th:only-of-type {\n",
       "        vertical-align: middle;\n",
       "    }\n",
       "\n",
       "    .dataframe tbody tr th {\n",
       "        vertical-align: top;\n",
       "    }\n",
       "\n",
       "    .dataframe thead th {\n",
       "        text-align: right;\n",
       "    }\n",
       "</style>\n",
       "<table border=\"1\" class=\"dataframe\">\n",
       "  <thead>\n",
       "    <tr style=\"text-align: right;\">\n",
       "      <th></th>\n",
       "      <th>category_id</th>\n",
       "    </tr>\n",
       "    <tr>\n",
       "      <th>_id</th>\n",
       "      <th></th>\n",
       "    </tr>\n",
       "  </thead>\n",
       "  <tbody>\n",
       "    <tr>\n",
       "      <th>0</th>\n",
       "      <td>1000010653</td>\n",
       "    </tr>\n",
       "    <tr>\n",
       "      <th>1</th>\n",
       "      <td>1000010653</td>\n",
       "    </tr>\n",
       "    <tr>\n",
       "      <th>2</th>\n",
       "      <td>1000004079</td>\n",
       "    </tr>\n",
       "    <tr>\n",
       "      <th>3</th>\n",
       "      <td>1000004141</td>\n",
       "    </tr>\n",
       "    <tr>\n",
       "      <th>4</th>\n",
       "      <td>1000015539</td>\n",
       "    </tr>\n",
       "    <tr>\n",
       "      <th>...</th>\n",
       "      <td>...</td>\n",
       "    </tr>\n",
       "    <tr>\n",
       "      <th>84</th>\n",
       "      <td>1000010641</td>\n",
       "    </tr>\n",
       "    <tr>\n",
       "      <th>101</th>\n",
       "      <td>1000004085</td>\n",
       "    </tr>\n",
       "    <tr>\n",
       "      <th>98</th>\n",
       "      <td>1000010667</td>\n",
       "    </tr>\n",
       "    <tr>\n",
       "      <th>81</th>\n",
       "      <td>1000010683</td>\n",
       "    </tr>\n",
       "    <tr>\n",
       "      <th>99</th>\n",
       "      <td>1000014053</td>\n",
       "    </tr>\n",
       "  </tbody>\n",
       "</table>\n",
       "<p>82 rows × 1 columns</p>\n",
       "</div>"
      ],
      "text/plain": [
       "     category_id\n",
       "_id             \n",
       "0     1000010653\n",
       "1     1000010653\n",
       "2     1000004079\n",
       "3     1000004141\n",
       "4     1000015539\n",
       "..           ...\n",
       "84    1000010641\n",
       "101   1000004085\n",
       "98    1000010667\n",
       "81    1000010683\n",
       "99    1000014053\n",
       "\n",
       "[82 rows x 1 columns]"
      ]
     },
     "execution_count": null,
     "metadata": {},
     "output_type": "execute_result"
    }
   ],
   "source": [
    "%time bson_to_jpeg(\"./data/train_example.bson\")"
   ]
  },
  {
   "cell_type": "code",
   "execution_count": null,
   "metadata": {},
   "outputs": [
    {
     "name": "stdout",
     "output_type": "stream",
     "text": [
      "Converted 00_core.ipynb.\n",
      "Converted index.ipynb.\n"
     ]
    }
   ],
   "source": [
    "#hide\n",
    "from nbdev.export import notebook2script; notebook2script()"
   ]
  },
  {
   "cell_type": "code",
   "execution_count": null,
   "metadata": {},
   "outputs": [],
   "source": []
  }
 ],
 "metadata": {
  "kernelspec": {
   "display_name": "Python 3",
   "language": "python",
   "name": "python3"
  }
 },
 "nbformat": 4,
 "nbformat_minor": 2
}
