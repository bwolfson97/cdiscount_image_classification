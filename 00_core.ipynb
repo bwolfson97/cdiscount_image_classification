{
 "cells": [
  {
   "cell_type": "code",
   "execution_count": null,
   "metadata": {},
   "outputs": [],
   "source": [
    "# default_exp process_bson"
   ]
  },
  {
   "cell_type": "markdown",
   "metadata": {},
   "source": [
    "# Process BSON\n",
    "\n",
    "> Script to process BSON data into JPGs. Ideas from [here](https://www.kaggle.com/inversion/processing-bson-files/notebook)."
   ]
  },
  {
   "cell_type": "code",
   "execution_count": null,
   "metadata": {},
   "outputs": [],
   "source": [
    "#hide\n",
    "from nbdev.showdoc import *"
   ]
  },
  {
   "cell_type": "code",
   "execution_count": null,
   "metadata": {},
   "outputs": [],
   "source": [
    "#export\n",
    "import pandas as pd\n",
    "from fastcore.all import *\n",
    "import io\n",
    "import bson\n",
    "from PIL import Image\n",
    "from multiprocessing import Pool\n",
    "from typing import List"
   ]
  },
  {
   "cell_type": "code",
   "execution_count": null,
   "metadata": {},
   "outputs": [],
   "source": [
    "#export\n",
    "def save_images(product, save_dir):\n",
    "    \"\"\"Saves product's images to disk.\"\"\"\n",
    "    for i, img in enumerate(product[\"imgs\"]):\n",
    "        save_path = save_dir/f\"{product['_id']}_{i}.jpg\"\n",
    "        if save_path.exists(): continue\n",
    "        picture = Image.open(io.BytesIO(img[\"picture\"]))\n",
    "        picture.save(save_path)"
   ]
  },
  {
   "cell_type": "code",
   "execution_count": null,
   "metadata": {},
   "outputs": [],
   "source": [
    "#export\n",
    "def get_mapping(product, columns: List[str]): return [product[col] for col in columns]"
   ]
  },
  {
   "cell_type": "code",
   "execution_count": null,
   "metadata": {},
   "outputs": [],
   "source": [
    "#export\n",
    "@call_parse\n",
    "def bson_to_jpeg(\n",
    "    path: Param(\"Path to BSON\", Path),\n",
    "):\n",
    "    \"\"\"Coverts BSON to JPGs and saves product id to category mapping as CSV.\"\"\"\n",
    "    path = Path(path)\n",
    "    save_dir = path.parent/\"images\"\n",
    "    save_dir.mkdir(exist_ok=True)\n",
    "    csv_save_path = path.parent/f\"{path.stem}.csv\"\n",
    "    is_test = path.stem == \"test\"\n",
    "    print(f\"Converting {path} to JPGs in {save_dir}. Mapping saved in {csv_save_path}.\")\n",
    "\n",
    "    def parallel_map(func):\n",
    "        with Pool() as pool:\n",
    "            with path.open(\"rb\") as file:\n",
    "                return [res for res in pool.imap(func, bson.decode_file_iter(file), chunksize=10000)]\n",
    "\n",
    "    print(\"Starting call to save images.\")\n",
    "    parallel_map(partial(save_images, save_dir=save_dir))\n",
    "    print(\"Finished saving images.\")\n",
    "\n",
    "    cols = [\"_id\"]\n",
    "    if not is_test: cols.append(\"category_id\")\n",
    "    print(\"Starting call to gather mapping.\")\n",
    "    mappings = parallel_map(partial(get_mapping, columns=cols))\n",
    "    print(\"Finished gathering mapping.\")\n",
    "\n",
    "    df = pd.DataFrame(mappings, columns=cols)\n",
    "    df.to_csv(csv_save_path, index=False)\n",
    "    print(f\"Saved CSV to {csv_save_path}.\")\n",
    "    print(\"Completed successfully.\")\n",
    "    return df"
   ]
  },
  {
   "cell_type": "code",
   "execution_count": null,
   "metadata": {},
   "outputs": [],
   "source": [
    "!rm data/train_example.csv"
   ]
  },
  {
   "cell_type": "code",
   "execution_count": null,
   "metadata": {},
   "outputs": [],
   "source": [
    "path = Path(\"./data/train_example.bson\")"
   ]
  },
  {
   "cell_type": "code",
   "execution_count": null,
   "metadata": {},
   "outputs": [
    {
     "name": "stdout",
     "output_type": "stream",
     "text": [
      "Converting data/train_example.bson to JPGs in data/images. Mapping saved in data/train_example.csv.\n",
      "Starting call to save images.\n",
      "Finished saving images.\n",
      "Starting call to gather mapping.\n",
      "Finished gathering mapping.\n",
      "Saved CSV to data/train_example.csv.\n",
      "Completed successfully.\n",
      "CPU times: user 51 ms, sys: 198 ms, total: 249 ms\n",
      "Wall time: 238 ms\n"
     ]
    },
    {
     "data": {
      "text/html": [
       "<div>\n",
       "<style scoped>\n",
       "    .dataframe tbody tr th:only-of-type {\n",
       "        vertical-align: middle;\n",
       "    }\n",
       "\n",
       "    .dataframe tbody tr th {\n",
       "        vertical-align: top;\n",
       "    }\n",
       "\n",
       "    .dataframe thead th {\n",
       "        text-align: right;\n",
       "    }\n",
       "</style>\n",
       "<table border=\"1\" class=\"dataframe\">\n",
       "  <thead>\n",
       "    <tr style=\"text-align: right;\">\n",
       "      <th></th>\n",
       "      <th>_id</th>\n",
       "      <th>category_id</th>\n",
       "    </tr>\n",
       "  </thead>\n",
       "  <tbody>\n",
       "    <tr>\n",
       "      <th>0</th>\n",
       "      <td>0</td>\n",
       "      <td>1000010653</td>\n",
       "    </tr>\n",
       "    <tr>\n",
       "      <th>1</th>\n",
       "      <td>1</td>\n",
       "      <td>1000010653</td>\n",
       "    </tr>\n",
       "    <tr>\n",
       "      <th>2</th>\n",
       "      <td>2</td>\n",
       "      <td>1000004079</td>\n",
       "    </tr>\n",
       "    <tr>\n",
       "      <th>3</th>\n",
       "      <td>3</td>\n",
       "      <td>1000004141</td>\n",
       "    </tr>\n",
       "    <tr>\n",
       "      <th>4</th>\n",
       "      <td>4</td>\n",
       "      <td>1000015539</td>\n",
       "    </tr>\n",
       "    <tr>\n",
       "      <th>...</th>\n",
       "      <td>...</td>\n",
       "      <td>...</td>\n",
       "    </tr>\n",
       "    <tr>\n",
       "      <th>77</th>\n",
       "      <td>95</td>\n",
       "      <td>1000010653</td>\n",
       "    </tr>\n",
       "    <tr>\n",
       "      <th>78</th>\n",
       "      <td>97</td>\n",
       "      <td>1000010683</td>\n",
       "    </tr>\n",
       "    <tr>\n",
       "      <th>79</th>\n",
       "      <td>98</td>\n",
       "      <td>1000010667</td>\n",
       "    </tr>\n",
       "    <tr>\n",
       "      <th>80</th>\n",
       "      <td>99</td>\n",
       "      <td>1000014053</td>\n",
       "    </tr>\n",
       "    <tr>\n",
       "      <th>81</th>\n",
       "      <td>101</td>\n",
       "      <td>1000004085</td>\n",
       "    </tr>\n",
       "  </tbody>\n",
       "</table>\n",
       "<p>82 rows × 2 columns</p>\n",
       "</div>"
      ],
      "text/plain": [
       "    _id  category_id\n",
       "0     0   1000010653\n",
       "1     1   1000010653\n",
       "2     2   1000004079\n",
       "3     3   1000004141\n",
       "4     4   1000015539\n",
       "..  ...          ...\n",
       "77   95   1000010653\n",
       "78   97   1000010683\n",
       "79   98   1000010667\n",
       "80   99   1000014053\n",
       "81  101   1000004085\n",
       "\n",
       "[82 rows x 2 columns]"
      ]
     },
     "execution_count": null,
     "metadata": {},
     "output_type": "execute_result"
    }
   ],
   "source": [
    "%time bson_to_jpeg(path)"
   ]
  },
  {
   "cell_type": "code",
   "execution_count": null,
   "metadata": {},
   "outputs": [
    {
     "name": "stdout",
     "output_type": "stream",
     "text": [
      "Converted 00_core.ipynb.\n",
      "Converted 01_find_duplicates.ipynb.\n",
      "Converted index.ipynb.\n"
     ]
    }
   ],
   "source": [
    "#hide\n",
    "from nbdev.export import notebook2script; notebook2script()"
   ]
  },
  {
   "cell_type": "code",
   "execution_count": null,
   "metadata": {},
   "outputs": [],
   "source": []
  }
 ],
 "metadata": {
  "kernelspec": {
   "display_name": "Python 3",
   "language": "python",
   "name": "python3"
  }
 },
 "nbformat": 4,
 "nbformat_minor": 2
}
