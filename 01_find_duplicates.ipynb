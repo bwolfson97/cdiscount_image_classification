{
 "cells": [
  {
   "cell_type": "code",
   "execution_count": null,
   "id": "restricted-joseph",
   "metadata": {},
   "outputs": [],
   "source": [
    "# default_exp find_duplicates"
   ]
  },
  {
   "cell_type": "markdown",
   "id": "innocent-devices",
   "metadata": {},
   "source": [
    "# Find Duplicates\n",
    "\n",
    "> Finds duplicate images and records them."
   ]
  },
  {
   "cell_type": "code",
   "execution_count": null,
   "id": "informational-joseph",
   "metadata": {},
   "outputs": [],
   "source": [
    "#hide\n",
    "from nbdev.showdoc import *"
   ]
  },
  {
   "cell_type": "code",
   "execution_count": null,
   "id": "entire-germany",
   "metadata": {},
   "outputs": [],
   "source": [
    "#export\n",
    "from fastcore.all import *\n",
    "import pandas as pd\n",
    "import numpy as np\n",
    "from PIL import Image\n",
    "from hashlib import md5\n",
    "from itertools import chain\n",
    "from typing import List"
   ]
  },
  {
   "cell_type": "markdown",
   "id": "difficult-fighter",
   "metadata": {},
   "source": [
    "## End Result\n",
    "\n",
    "At the end, we are interested in having a table that tells us 2 main pieces of information:\n",
    "   1. What images are duplicated across the train and test sets? What are the id's and categories of those images?\n",
    "       - We can label these products in the test set by hand, since we'll be able to see what category they are in the train set\n",
    "   2. What images appear in multiple different categories?\n",
    "       - These images will be confusing to the network if processing on an image-level, so we might do something with these\n",
    "\n",
    "Ultimately, a table with the following information would be good:\n",
    "\n",
    "|image hash|image name|\\_id|category_id|in_test|\n",
    "|---|---|---|---|---|\n",
    "|as12dfjwka3k3qjkdjnw|100_1.jpg|100|1000021794|False|\n",
    "|as12dfjwka3k3qjkdjnw|2_0.jpg|2|-1|True|"
   ]
  },
  {
   "cell_type": "markdown",
   "id": "relative-settlement",
   "metadata": {},
   "source": [
    "## Implementation"
   ]
  },
  {
   "cell_type": "code",
   "execution_count": null,
   "id": "selective-cholesterol",
   "metadata": {},
   "outputs": [
    {
     "data": {
      "text/plain": [
       "(#13) [Path('data/multiple_categories.csv'),Path('data/sample_submission.csv'),Path('data/train.bson'),Path('data/train_example.bson'),Path('data/cdiscount-image-classification-challenge.zip'),Path('data/multiple_categories_and_in_train_and_test.csv'),Path('data/test.bson'),Path('data/test.csv'),Path('data/train.csv'),Path('data/train_example.csv')...]"
      ]
     },
     "execution_count": null,
     "metadata": {},
     "output_type": "execute_result"
    }
   ],
   "source": [
    "path = Path(\"data\"); path.ls()"
   ]
  },
  {
   "cell_type": "code",
   "execution_count": null,
   "id": "interior-projection",
   "metadata": {},
   "outputs": [
    {
     "data": {
      "text/html": [
       "<div>\n",
       "<style scoped>\n",
       "    .dataframe tbody tr th:only-of-type {\n",
       "        vertical-align: middle;\n",
       "    }\n",
       "\n",
       "    .dataframe tbody tr th {\n",
       "        vertical-align: top;\n",
       "    }\n",
       "\n",
       "    .dataframe thead th {\n",
       "        text-align: right;\n",
       "    }\n",
       "</style>\n",
       "<table border=\"1\" class=\"dataframe\">\n",
       "  <thead>\n",
       "    <tr style=\"text-align: right;\">\n",
       "      <th></th>\n",
       "      <th>_id</th>\n",
       "      <th>category_id</th>\n",
       "    </tr>\n",
       "  </thead>\n",
       "  <tbody>\n",
       "    <tr>\n",
       "      <th>0</th>\n",
       "      <td>0</td>\n",
       "      <td>1000010653</td>\n",
       "    </tr>\n",
       "    <tr>\n",
       "      <th>1</th>\n",
       "      <td>1</td>\n",
       "      <td>1000010653</td>\n",
       "    </tr>\n",
       "    <tr>\n",
       "      <th>2</th>\n",
       "      <td>2</td>\n",
       "      <td>1000004079</td>\n",
       "    </tr>\n",
       "    <tr>\n",
       "      <th>3</th>\n",
       "      <td>3</td>\n",
       "      <td>1000004141</td>\n",
       "    </tr>\n",
       "    <tr>\n",
       "      <th>4</th>\n",
       "      <td>4</td>\n",
       "      <td>1000015539</td>\n",
       "    </tr>\n",
       "  </tbody>\n",
       "</table>\n",
       "</div>"
      ],
      "text/plain": [
       "   _id  category_id\n",
       "0    0   1000010653\n",
       "1    1   1000010653\n",
       "2    2   1000004079\n",
       "3    3   1000004141\n",
       "4    4   1000015539"
      ]
     },
     "execution_count": null,
     "metadata": {},
     "output_type": "execute_result"
    }
   ],
   "source": [
    "train_csv = pd.read_csv(path/\"train_example.csv\"); train_csv.head()"
   ]
  },
  {
   "cell_type": "code",
   "execution_count": null,
   "id": "first-luther",
   "metadata": {},
   "outputs": [
    {
     "data": {
      "text/plain": [
       "82"
      ]
     },
     "execution_count": null,
     "metadata": {},
     "output_type": "execute_result"
    }
   ],
   "source": [
    "len(train_csv)"
   ]
  },
  {
   "cell_type": "markdown",
   "id": "charitable-century",
   "metadata": {},
   "source": [
    "### Process Row of DataFrame"
   ]
  },
  {
   "cell_type": "code",
   "execution_count": null,
   "id": "greater-wound",
   "metadata": {},
   "outputs": [
    {
     "data": {
      "text/plain": [
       "_id                     0\n",
       "category_id    1000010653\n",
       "Name: 0, dtype: int64"
      ]
     },
     "execution_count": null,
     "metadata": {},
     "output_type": "execute_result"
    }
   ],
   "source": [
    "train_csv.iloc[0]"
   ]
  },
  {
   "cell_type": "code",
   "execution_count": null,
   "id": "civil-speaking",
   "metadata": {},
   "outputs": [],
   "source": [
    "#export\n",
    "def get_image_path(data_path, _id, img_num): return data_path/\"images\"/f\"{_id}_{img_num}.jpg\""
   ]
  },
  {
   "cell_type": "code",
   "execution_count": null,
   "id": "honey-palestine",
   "metadata": {},
   "outputs": [
    {
     "data": {
      "text/plain": [
       "Path('data/images/0_0.jpg')"
      ]
     },
     "execution_count": null,
     "metadata": {},
     "output_type": "execute_result"
    }
   ],
   "source": [
    "img_path = get_image_path(path, 0, 0); img_path"
   ]
  },
  {
   "cell_type": "code",
   "execution_count": null,
   "id": "first-egyptian",
   "metadata": {},
   "outputs": [
    {
     "data": {
      "image/png": "[encoded data removed]",
      "text/plain": [
       "<PIL.JpegImagePlugin.JpegImageFile image mode=RGB size=180x180 at 0x7F3641EF6B50>"
      ]
     },
     "execution_count": null,
     "metadata": {},
     "output_type": "execute_result"
    }
   ],
   "source": [
    "img = Image.open(img_path); img"
   ]
  },
  {
   "cell_type": "code",
   "execution_count": null,
   "id": "interpreted-utilization",
   "metadata": {},
   "outputs": [],
   "source": [
    "#export\n",
    "def load_img_as_array(path): return np.array(Image.open(path))"
   ]
  },
  {
   "cell_type": "code",
   "execution_count": null,
   "id": "funny-ghana",
   "metadata": {},
   "outputs": [
    {
     "data": {
      "text/plain": [
       "(180, 180, 3)"
      ]
     },
     "execution_count": null,
     "metadata": {},
     "output_type": "execute_result"
    }
   ],
   "source": [
    "arr = load_img_as_array(img_path); arr.shape"
   ]
  },
  {
   "cell_type": "code",
   "execution_count": null,
   "id": "geological-effort",
   "metadata": {},
   "outputs": [],
   "source": [
    "#export\n",
    "def get_hash(array: np.ndarray): return md5(array.tobytes()).hexdigest()"
   ]
  },
  {
   "cell_type": "code",
   "execution_count": null,
   "id": "varying-present",
   "metadata": {},
   "outputs": [
    {
     "data": {
      "text/plain": [
       "'83c921601c6bc5e3d09576ac418091ed'"
      ]
     },
     "execution_count": null,
     "metadata": {},
     "output_type": "execute_result"
    }
   ],
   "source": [
    "get_hash(arr)"
   ]
  },
  {
   "cell_type": "code",
   "execution_count": null,
   "id": "assured-remains",
   "metadata": {},
   "outputs": [],
   "source": [
    "#export\n",
    "MAX_IMAGES_PER_PRODUCT = 4  # each product has up to 4 images"
   ]
  },
  {
   "cell_type": "code",
   "execution_count": null,
   "id": "dietary-engineering",
   "metadata": {},
   "outputs": [],
   "source": [
    "with ExceptionExpected(ex=FileNotFoundError): load_img_as_array(\"INVALID_PATH\")"
   ]
  },
  {
   "cell_type": "code",
   "execution_count": null,
   "id": "established-omega",
   "metadata": {},
   "outputs": [],
   "source": [
    "#export\n",
    "def GetProcessRowFunc(data_path: Path, is_test: bool):\n",
    "    \"\"\"Get func to process row of train.csv or test_csv.\"\"\"\n",
    "    def _inner(*row_values):\n",
    "        \"\"\"Processes single row and returns (image hash, image name, _id, category_id, in_test), for each image in product.\"\"\"\n",
    "        if is_test: _id, = row_values\n",
    "        else:       _id,category_id = row_values\n",
    "        processed_row = []\n",
    "        for img_num in range(MAX_IMAGES_PER_PRODUCT):\n",
    "            img_path = get_image_path(data_path, _id, img_num)\n",
    "            try: _hash = get_hash(load_img_as_array(img_path))\n",
    "            except FileNotFoundError: break  # Processed all product's images\n",
    "            processed_row.append((_hash, img_path.name, _id, -1 if is_test else category_id, is_test))\n",
    "        return processed_row\n",
    "    return _inner"
   ]
  },
  {
   "cell_type": "code",
   "execution_count": null,
   "id": "compatible-furniture",
   "metadata": {},
   "outputs": [],
   "source": [
    "train_csv_func = GetProcessRowFunc(path, is_test=False)\n",
    "_id,category_id = train_csv[\"_id\"][0],train_csv[\"category_id\"][0]\n",
    "test_eq([('83c921601c6bc5e3d09576ac418091ed', '0_0.jpg', 0, 1000010653, False)], \n",
    "        train_csv_func(_id, category_id))\n",
    "test_csv_func = GetProcessRowFunc(path, is_test=True)\n",
    "test_eq([('83c921601c6bc5e3d09576ac418091ed', '0_0.jpg', 0, -1, True)], \n",
    "        test_csv_func(_id))"
   ]
  },
  {
   "cell_type": "markdown",
   "id": "positive-exchange",
   "metadata": {},
   "source": [
    "### Apply Processing Function to Entire DataFrame to Get Intermediate DataFrame"
   ]
  },
  {
   "cell_type": "code",
   "execution_count": null,
   "id": "fewer-amendment",
   "metadata": {},
   "outputs": [],
   "source": [
    "#export\n",
    "def process_df_helper(df, data_path: Path):\n",
    "    \"\"\"Processes a train/test dataframe and returns the intermediate dataframe with hashes.\"\"\"\n",
    "    process_row_func = GetProcessRowFunc(data_path, is_test=\"category_id\" not in df)\n",
    "    processed_products = [process_row_func(*row) for row in zip(*[df[col] for col in df.columns])]\n",
    "    processed_df = pd.DataFrame(chain.from_iterable(processed_products),\n",
    "                                columns=[\"image_hash\", \"image_name\", \"_id\", \"category_id\", \"in_test\"])\n",
    "    return processed_df.set_index(\"image_hash\")"
   ]
  },
  {
   "cell_type": "code",
   "execution_count": null,
   "id": "every-palace",
   "metadata": {},
   "outputs": [
    {
     "data": {
      "text/html": [
       "<div>\n",
       "<style scoped>\n",
       "    .dataframe tbody tr th:only-of-type {\n",
       "        vertical-align: middle;\n",
       "    }\n",
       "\n",
       "    .dataframe tbody tr th {\n",
       "        vertical-align: top;\n",
       "    }\n",
       "\n",
       "    .dataframe thead th {\n",
       "        text-align: right;\n",
       "    }\n",
       "</style>\n",
       "<table border=\"1\" class=\"dataframe\">\n",
       "  <thead>\n",
       "    <tr style=\"text-align: right;\">\n",
       "      <th></th>\n",
       "      <th>image_name</th>\n",
       "      <th>_id</th>\n",
       "      <th>category_id</th>\n",
       "      <th>in_test</th>\n",
       "    </tr>\n",
       "    <tr>\n",
       "      <th>image_hash</th>\n",
       "      <th></th>\n",
       "      <th></th>\n",
       "      <th></th>\n",
       "      <th></th>\n",
       "    </tr>\n",
       "  </thead>\n",
       "  <tbody>\n",
       "    <tr>\n",
       "      <th>83c921601c6bc5e3d09576ac418091ed</th>\n",
       "      <td>0_0.jpg</td>\n",
       "      <td>0</td>\n",
       "      <td>1000010653</td>\n",
       "      <td>False</td>\n",
       "    </tr>\n",
       "    <tr>\n",
       "      <th>fb7e2ef84ef894f54d609c04785d0778</th>\n",
       "      <td>1_0.jpg</td>\n",
       "      <td>1</td>\n",
       "      <td>1000010653</td>\n",
       "      <td>False</td>\n",
       "    </tr>\n",
       "    <tr>\n",
       "      <th>9683ff26cb34890105f00303b1b03deb</th>\n",
       "      <td>2_0.jpg</td>\n",
       "      <td>2</td>\n",
       "      <td>1000004079</td>\n",
       "      <td>False</td>\n",
       "    </tr>\n",
       "    <tr>\n",
       "      <th>7d034b74233590a20f39dcb6cbba3af6</th>\n",
       "      <td>3_0.jpg</td>\n",
       "      <td>3</td>\n",
       "      <td>1000004141</td>\n",
       "      <td>False</td>\n",
       "    </tr>\n",
       "    <tr>\n",
       "      <th>b40b44e5acdabeb099eaae39b2654d41</th>\n",
       "      <td>4_0.jpg</td>\n",
       "      <td>4</td>\n",
       "      <td>1000015539</td>\n",
       "      <td>False</td>\n",
       "    </tr>\n",
       "  </tbody>\n",
       "</table>\n",
       "</div>"
      ],
      "text/plain": [
       "                                 image_name  _id  category_id  in_test\n",
       "image_hash                                                            \n",
       "83c921601c6bc5e3d09576ac418091ed    0_0.jpg    0   1000010653    False\n",
       "fb7e2ef84ef894f54d609c04785d0778    1_0.jpg    1   1000010653    False\n",
       "9683ff26cb34890105f00303b1b03deb    2_0.jpg    2   1000004079    False\n",
       "7d034b74233590a20f39dcb6cbba3af6    3_0.jpg    3   1000004141    False\n",
       "b40b44e5acdabeb099eaae39b2654d41    4_0.jpg    4   1000015539    False"
      ]
     },
     "execution_count": null,
     "metadata": {},
     "output_type": "execute_result"
    }
   ],
   "source": [
    "intermediate_df = process_df_helper(train_csv, path); intermediate_df.head()"
   ]
  },
  {
   "cell_type": "code",
   "execution_count": null,
   "id": "heavy-material",
   "metadata": {},
   "outputs": [
    {
     "data": {
      "text/html": [
       "<div>\n",
       "<style scoped>\n",
       "    .dataframe tbody tr th:only-of-type {\n",
       "        vertical-align: middle;\n",
       "    }\n",
       "\n",
       "    .dataframe tbody tr th {\n",
       "        vertical-align: top;\n",
       "    }\n",
       "\n",
       "    .dataframe thead th {\n",
       "        text-align: right;\n",
       "    }\n",
       "</style>\n",
       "<table border=\"1\" class=\"dataframe\">\n",
       "  <thead>\n",
       "    <tr style=\"text-align: right;\">\n",
       "      <th></th>\n",
       "      <th>_id</th>\n",
       "      <th>category_id</th>\n",
       "    </tr>\n",
       "  </thead>\n",
       "  <tbody>\n",
       "    <tr>\n",
       "      <th>0</th>\n",
       "      <td>0</td>\n",
       "      <td>1000010653</td>\n",
       "    </tr>\n",
       "    <tr>\n",
       "      <th>1</th>\n",
       "      <td>1</td>\n",
       "      <td>1000010653</td>\n",
       "    </tr>\n",
       "    <tr>\n",
       "      <th>2</th>\n",
       "      <td>2</td>\n",
       "      <td>1000004079</td>\n",
       "    </tr>\n",
       "    <tr>\n",
       "      <th>3</th>\n",
       "      <td>3</td>\n",
       "      <td>1000004141</td>\n",
       "    </tr>\n",
       "    <tr>\n",
       "      <th>4</th>\n",
       "      <td>4</td>\n",
       "      <td>1000015539</td>\n",
       "    </tr>\n",
       "  </tbody>\n",
       "</table>\n",
       "</div>"
      ],
      "text/plain": [
       "   _id  category_id\n",
       "0    0   1000010653\n",
       "1    1   1000010653\n",
       "2    2   1000004079\n",
       "3    3   1000004141\n",
       "4    4   1000015539"
      ]
     },
     "execution_count": null,
     "metadata": {},
     "output_type": "execute_result"
    }
   ],
   "source": [
    "train_csv.head()"
   ]
  },
  {
   "cell_type": "code",
   "execution_count": null,
   "id": "prescription-slovak",
   "metadata": {},
   "outputs": [],
   "source": [
    "#export\n",
    "def process_df(df, data_path: Path, n_workers=None):\n",
    "    \"\"\"Applies `process_df_helper` in parallel across df.\"\"\"\n",
    "    proc_func = partial(process_df_helper, data_path=data_path)\n",
    "    chunks = np.array_split(df, int(len(df/100)))\n",
    "    with ProcessPoolExecutor(max_workers=n_workers) as ex:\n",
    "        res = ex.map(proc_func, chunks)\n",
    "    return pd.concat(list(res))"
   ]
  },
  {
   "cell_type": "code",
   "execution_count": null,
   "id": "suspected-destination",
   "metadata": {},
   "outputs": [
    {
     "name": "stdout",
     "output_type": "stream",
     "text": [
      "CPU times: user 95.9 ms, sys: 10.6 ms, total: 107 ms\n",
      "Wall time: 310 ms\n"
     ]
    }
   ],
   "source": [
    "%time process_df(train_csv, path, n_workers=1); pass"
   ]
  },
  {
   "cell_type": "code",
   "execution_count": null,
   "id": "requested-generator",
   "metadata": {},
   "outputs": [
    {
     "name": "stdout",
     "output_type": "stream",
     "text": [
      "CPU times: user 79.8 ms, sys: 65.8 ms, total: 146 ms\n",
      "Wall time: 199 ms\n"
     ]
    }
   ],
   "source": [
    "%time process_df(train_csv, path, n_workers=None); pass"
   ]
  },
  {
   "cell_type": "markdown",
   "id": "gothic-summer",
   "metadata": {},
   "source": [
    "### Use Intermediate DataFrame to Accomplish Objectives"
   ]
  },
  {
   "cell_type": "code",
   "execution_count": null,
   "id": "liked-sullivan",
   "metadata": {},
   "outputs": [],
   "source": [
    "#export\n",
    "def contains_multiple_values_in_column(df, col): return len(df[col].unique()) > 1\n",
    "def appears_in_multiple_categories(df): return contains_multiple_values_in_column(df, \"category_id\")\n",
    "def appears_in_train_and_test(df): return contains_multiple_values_in_column(df, \"in_test\")"
   ]
  },
  {
   "cell_type": "code",
   "execution_count": null,
   "id": "clean-armor",
   "metadata": {},
   "outputs": [],
   "source": [
    "duplicated_images_df = intermediate_df.groupby(\"image_hash\")\n",
    "assert duplicated_images_df.filter(appears_in_multiple_categories).empty\n",
    "assert duplicated_images_df.filter(appears_in_train_and_test).empty"
   ]
  },
  {
   "cell_type": "markdown",
   "id": "maritime-vermont",
   "metadata": {},
   "source": [
    "## Script"
   ]
  },
  {
   "cell_type": "code",
   "execution_count": null,
   "id": "secret-parker",
   "metadata": {},
   "outputs": [
    {
     "data": {
      "text/plain": [
       "'image_hash,image_name,_id,category_id,in_test\\n83c921601c6bc5e3d09576ac418091ed,0_0.jpg,0,1000010653,False\\nfb7e2ef84ef894f54d609c04785d0778,1_0.jpg,1,1000010653,False\\n9683ff26cb34890105f00303b1b03deb,2_0.jpg,2,1000004079,False\\n7d034b74233590a20f39dcb6cbba3af6,3_0.jpg,3,1000004141,False\\nb40b44e5acdabeb099eaae39b2654d41,4_0.jpg,4,1000015539,False\\nb482849c3eb798f38d6e8b7c75cfaa71,5_0.jpg,5,1000010653,False\\nedd8359dea0181dcecdccac89cd9e4c3,6_0.jpg,6,1000005744,False\\naf0f92a50f618d0044cb1fb64e014f3e,7_0.jpg,7,1000004079,False\\n10931d19c8e5a2694541fb9630666bbe,8_0.jpg,8,1000010667,False\\nf3d45a8f137c469c3d2c362e2b1cbc2f,9_0.jpg,9,1000018290,False\\n4d35611135a7625b93f5104dc3177652,11_0.jpg,11,1000010653,False\\n02f9a479e0a0af3b51e1a063e4c70809,12_0.jpg,12,1000018306,False\\ncd4698e666a61e5049707f6087758eda,13_0.jpg,13,1000010961,False\\n5121c661ae29c606e4f9ff9b6866eef9,13_1.jpg,13,1000010961,False\\n9d37987dbb4326ecdf750a9c98a5abbc,13_2.jpg,13,1000010961,False\\n7054b7a740ad48ba8ff7180729075cd5,13_3.jpg,13,1000010961,False\\na9550d72e700dcf7f4ca17e71f29c877,15_0.jpg,15,1000015309,False\\n2e4351197ff0e3c5180c7c482c6e0d25,16_0.jpg,16,1000010653,False\\nd0a42ba660d07adaca4523be6bd849b7,17_0.jpg,17,1000007361,False\\nff3eaa15459fa9ad5123803b0aca894b,18_0.jpg,18,1000018294,False\\n96dd0a0e4087689db14a06afb3f029e8,19_0.jpg,19,1000014287,False\\nb4bd0971ebcb0e98610d998a86feaca0,19_1.jpg,19,1000014287,False\\n7732188b941f15044d58f2a8fc5a0d37,20_0.jpg,20,1000010653,False\\n95e28c505f93fcfb25858529121eeb78,22_0.jpg,22,1000005910,False\\nb1377a50011ae56a49deb8b0cf44c99c,25_0.jpg,25,1000010653,False\\n9b41d223c6c7602191f89c4275368764,25_1.jpg,25,1000010653,False\\n7412de3332c6f65bf43c65ff481d4cb5,25_2.jpg,25,1000010653,False\\n41c194a5ac5ddcbff46dffa111d73b1d,25_3.jpg,25,1000010653,False\\na47fc7a88483b0d56c59a2b66ab24e0c,26_0.jpg,26,1000001859,False\\n26ab54a88b1624cd680519052067c4b7,26_1.jpg,26,1000001859,False\\n8322cf48a699032f7b755ee454c6c880,26_2.jpg,26,1000001859,False\\ncdcdbe4db6f821cc0838e98d48d53fcc,26_3.jpg,26,1000001859,False\\n60f5f6b113c9618f0ef6f885fe658f78,28_0.jpg,28,1000010653,False\\n5ff8a6cb4f9694feea6591cb5f7fd978,30_0.jpg,30,1000010653,False\\n64b85227a34bde99c26bedf64d34d545,31_0.jpg,31,1000010653,False\\n75d45be39c4093223f8a36f55bee6036,33_0.jpg,33,1000010647,False\\n75d45be39c4093223f8a36f55bee6036,33_1.jpg,33,1000010647,False\\n673ca8e34aa635af237c5c9d62f095cb,34_0.jpg,34,1000010653,False\\n1ff237bd58156f2396fb28e6d46a1936,35_0.jpg,35,1000018290,False\\n752697a803f5042611958545d0e5c144,36_0.jpg,36,1000004079,False\\naa76c4c6aeb1ccb7191f3f7849e8fcfd,37_0.jpg,37,1000010653,False\\n1ef187b664427b9911f9896020347cb8,38_0.jpg,38,1000010653,False\\na2bb21729fdf1648bacc1300010b46f3,39_0.jpg,39,1000011423,False\\nf063a17c5f3cd05f389179355c48d999,39_1.jpg,39,1000011423,False\\nb6e3df559068cb5aace537a8384020c9,40_0.jpg,40,1000010653,False\\nfe8d0c0550ae01719b72832853fbfcec,41_0.jpg,41,1000010653,False\\n1da648b30fb76cc8b1fba56841a0592b,42_0.jpg,42,1000012989,False\\n980e556264aef5c6e6bd03fc93450437,42_1.jpg,42,1000012989,False\\n03b1567f754209ebb3fcd99686e811bf,43_0.jpg,43,1000004079,False\\nddf968ca53f9514468a59a107807fd44,43_1.jpg,43,1000004079,False\\n5f4733d584087f7f8ecd89456d32ac58,43_2.jpg,43,1000004079,False\\n5bec1141ab10a6e932bd5fdd2fdcfb24,44_0.jpg,44,1000010653,False\\n70c2ac796207eccf296ddedf4502fc79,45_0.jpg,45,1000012558,False\\n689a172dc71f530f2c27ae925842d911,46_0.jpg,46,1000010061,False\\n63dca96b423da123ece38ff38a279789,47_0.jpg,47,1000010653,False\\nc2aa4364e58c4ea7fd071849dcf8f69d,48_0.jpg,48,1000010653,False\\nc0cb191014897d35617005ee4f639ecb,50_0.jpg,50,1000005990,False\\n3f6f8175646fe570369fc93e0aa85280,51_0.jpg,51,1000010653,False\\n46e6a916179e30e43d7723ce2acc77f6,52_0.jpg,52,1000010653,False\\n97d8e3332c99c1f32cc3dc1f6549b41b,53_0.jpg,53,1000012993,False\\nfce441558d307bf8ae6f7472b682f0f5,54_0.jpg,54,1000014396,False\\n0c3e1306c3fa6fe1801c564f52851eea,55_0.jpg,55,1000010653,False\\nbbf1b408fbe20370f6a846a526b999e1,56_0.jpg,56,1000010653,False\\nea6b1a55813e14256f80ec577604592d,57_0.jpg,57,1000003787,False\\n12ff54544546fa1d787918287b74d6f8,57_1.jpg,57,1000003787,False\\n6adca7a0178a7de750674e9927cced64,57_2.jpg,57,1000003787,False\\nab25bfcc992db1edb4d26c0315e8bd6a,58_0.jpg,58,1000010706,False\\n7d601f0757ebce4c88e67493f2bfcd96,59_0.jpg,59,1000007138,False\\n596847253612a3ae0729e47ed74ab156,60_0.jpg,60,1000010653,False\\nbec03b294a381908a52b4e5420ff632a,61_0.jpg,61,1000010653,False\\n09517becc45ca65a47eae1a17b0507e0,62_0.jpg,62,1000003191,False\\nadfed800299489b516121c482b606b4f,62_1.jpg,62,1000003191,False\\na77eeba4cdd3608f9375166e85a6d70c,63_0.jpg,63,1000010653,False\\n512d1739c1f70a9fb9741fb455e75c76,64_0.jpg,64,1000010667,False\\n1d425f3b6d2e0500ce54ca6f22992542,64_1.jpg,64,1000010667,False\\n4cd3e9135ea672212a4869dc827f79e1,64_2.jpg,64,1000010667,False\\n16d894b765cac2147e065d3c6425898b,66_0.jpg,66,1000010653,False\\nc525c5dba8a07be58f1a056c3d72ea74,69_0.jpg,69,1000010653,False\\n16c2761ff52c112188aceb4430491e77,70_0.jpg,70,1000018294,False\\n42cd881660802dc6eb413fdf1457c56b,71_0.jpg,71,1000010645,False\\n7b5f6298e304b94b6ce6da9b52407f97,72_0.jpg,72,1000003977,False\\na1257994a8947e461f57520579e4aeeb,73_0.jpg,73,1000005796,False\\n874626ae550dd749d93a98c0d0b1549a,73_1.jpg,73,1000005796,False\\nac3c8ed3e3815efc29da5e8acf2503fd,73_2.jpg,73,1000005796,False\\nbdb5a7e6d1a1e4416cb6621fee0227e8,73_3.jpg,73,1000005796,False\\nf30280981d66c8bd749628ae0ec2d895,74_0.jpg,74,1000010653,False\\n576af4ec1505eeb97f0c2a8b14404d6a,75_0.jpg,75,1000010653,False\\ndbc9783aaddd90db0b69c66c5a689d43,76_0.jpg,76,1000013922,False\\n4b6f485ca90cb7414c01543a385197d7,76_1.jpg,76,1000013922,False\\nf96e5564cec7eb7559a24ccb38a285d8,77_0.jpg,77,1000010667,False\\nade92a25cf47cf94fbe0c6b166e6fe70,79_0.jpg,79,1000010653,False\\nb2d81f116f94f56714a438a6c020a8a6,80_0.jpg,80,1000004141,False\\n89549a26e8651b91c5dee51e636ec0be,81_0.jpg,81,1000010683,False\\nb35e1d8597e4773ed301460e9e1a8228,83_0.jpg,83,1000010653,False\\nd36ebbc2260d6c275cf5fb23d469f5cf,84_0.jpg,84,1000010641,False\\n93239b5cde5579e8579bafd224d2262d,87_0.jpg,87,1000010461,False\\nf6f5cb67423515586e46b762d75afc5b,88_0.jpg,88,1000010653,False\\nfa6c19cd0c022aefad1ca9aa2a481206,89_0.jpg,89,1000010653,False\\n7471505b48a4709a057fee691d751d8f,90_0.jpg,90,1000010653,False\\n56f5c06c4b97b75d05377a5b4128f388,91_0.jpg,91,1000010653,False\\n1b4503d384ba672c77ccd99b0c656b26,92_0.jpg,92,1000015309,False\\n228f1c0029fec7cae4cbd9583c169caa,95_0.jpg,95,1000010653,False\\n0945d35c8cabb537194abb463006a142,97_0.jpg,97,1000010683,False\\ncf30adec147ad9c33ab60f1317d6629c,97_1.jpg,97,1000010683,False\\n6fcc49dd0f339383cc275c32ae586032,98_0.jpg,98,1000010667,False\\n54075734ee6bd24c7cefc496bc4d3828,98_1.jpg,98,1000010667,False\\nfb3d19dc62aa8e12ec5efa6cb6730df3,98_2.jpg,98,1000010667,False\\n40f66ca2ab2218b85612dd8d09fb3826,98_3.jpg,98,1000010667,False\\na762777796c37456260ec991ca9c3bf8,99_0.jpg,99,1000014053,False\\n00cdeec2d7774ff610c86b7ba30d9dc7,101_0.jpg,101,1000004085,False\\n'"
      ]
     },
     "execution_count": null,
     "metadata": {},
     "output_type": "execute_result"
    }
   ],
   "source": [
    "intermediate_df.to_csv()"
   ]
  },
  {
   "cell_type": "code",
   "execution_count": null,
   "id": "overhead-apple",
   "metadata": {},
   "outputs": [
    {
     "data": {
      "text/plain": [
       "Path('data')"
      ]
     },
     "execution_count": null,
     "metadata": {},
     "output_type": "execute_result"
    }
   ],
   "source": [
    "path"
   ]
  },
  {
   "cell_type": "code",
   "execution_count": null,
   "id": "national-petroleum",
   "metadata": {},
   "outputs": [],
   "source": [
    "t = L(path/\"train.csv\")"
   ]
  },
  {
   "cell_type": "code",
   "execution_count": null,
   "id": "weekly-rainbow",
   "metadata": {},
   "outputs": [
    {
     "data": {
      "text/plain": [
       "(#1) [Path('data/train.csv')]"
      ]
     },
     "execution_count": null,
     "metadata": {},
     "output_type": "execute_result"
    }
   ],
   "source": [
    "t"
   ]
  },
  {
   "cell_type": "code",
   "execution_count": null,
   "id": "acceptable-composer",
   "metadata": {},
   "outputs": [
    {
     "data": {
      "text/plain": [
       "Path('data/train_hashes.csv')"
      ]
     },
     "execution_count": null,
     "metadata": {},
     "output_type": "execute_result"
    }
   ],
   "source": [
    "t.with_name(f\"{t.stem}_hashes.csv\")"
   ]
  },
  {
   "cell_type": "code",
   "execution_count": null,
   "id": "scheduled-packing",
   "metadata": {},
   "outputs": [],
   "source": [
    "#export\n",
    "@call_parse\n",
    "def find_duplicates(\n",
    "    path: Param(\"Path to data dir\", type=Path),\n",
    "    n_workers: Param(\"Number of workers, defaults to all cores\", type=int)=None,\n",
    ") -> List[pd.DataFrame]:\n",
    "    \"\"\"Checks for duplicates.\"\"\"\n",
    "    # Process CSVs\n",
    "    csv_paths = L(path/\"train.csv\", path/\"test.csv\")\n",
    "    dfs = []\n",
    "    for csv_path in csv_paths:\n",
    "        save_path = csv_path.with_name(f\"{csv_path.stem}_hashes.csv\")\n",
    "        if save_path.exists(): break  # File previously processed\n",
    "        processed_df = process_df(pd.read_csv(csv_path), data_path=path, n_workers=n_workers)\n",
    "        processed_df.to_csv(save_path)\n",
    "        dfs.append(processed_df)\n",
    "    intermediate_df = pd.concat(dfs) if len(dfs) > 1 else dfs[0]\n",
    "\n",
    "    # Check for duplicates\n",
    "    duplicated_imgs_df = intermediate_df.groupby(\"image_hash\")\n",
    "    multiple_categories_df = duplicated_imgs_df.filter(appears_in_multiple_categories)\n",
    "    in_train_and_test_df = duplicated_imgs_df.filter(appears_in_train_and_test)\n",
    "    both_df = multiple_categories_df.merge(in_train_and_test_df)\n",
    "\n",
    "    # Save results\n",
    "    multiple_categories_df.to_csv(path/\"multiple_categories.csv\")\n",
    "    in_train_and_test_df.to_csv(path/\"in_train_and_test.csv\")\n",
    "    both_df.to_csv(path/\"multiple_categories_and_in_train_and_test.csv\", index=False)\n",
    "    return multiple_categories_df, in_train_and_test_df, both_df"
   ]
  },
  {
   "cell_type": "code",
   "execution_count": null,
   "id": "higher-control",
   "metadata": {},
   "outputs": [
    {
     "ename": "KeyboardInterrupt",
     "evalue": "",
     "output_type": "error",
     "traceback": [
      "\u001b[0;31m---------------------------------------------------------------------------\u001b[0m",
      "\u001b[0;31mKeyboardInterrupt\u001b[0m                         Traceback (most recent call last)",
      "\u001b[0;32m<timed exec>\u001b[0m in \u001b[0;36m<module>\u001b[0;34m\u001b[0m\n",
      "\u001b[0;32m<ipython-input-52-da1bbd928f67>\u001b[0m in \u001b[0;36mfind_duplicates\u001b[0;34m(path, n_workers)\u001b[0m\n\u001b[1;32m     12\u001b[0m         \u001b[0msave_path\u001b[0m \u001b[0;34m=\u001b[0m \u001b[0mcsv_path\u001b[0m\u001b[0;34m.\u001b[0m\u001b[0mwith_name\u001b[0m\u001b[0;34m(\u001b[0m\u001b[0;34mf\"{csv_path.stem}_hashes.csv\"\u001b[0m\u001b[0;34m)\u001b[0m\u001b[0;34m\u001b[0m\u001b[0;34m\u001b[0m\u001b[0m\n\u001b[1;32m     13\u001b[0m         \u001b[0;32mif\u001b[0m \u001b[0msave_path\u001b[0m\u001b[0;34m.\u001b[0m\u001b[0mexists\u001b[0m\u001b[0;34m(\u001b[0m\u001b[0;34m)\u001b[0m\u001b[0;34m:\u001b[0m \u001b[0;32mbreak\u001b[0m  \u001b[0;31m# File previously processed\u001b[0m\u001b[0;34m\u001b[0m\u001b[0;34m\u001b[0m\u001b[0m\n\u001b[0;32m---> 14\u001b[0;31m         \u001b[0mdfs\u001b[0m\u001b[0;34m.\u001b[0m\u001b[0mappend\u001b[0m\u001b[0;34m(\u001b[0m\u001b[0mprocess_df\u001b[0m\u001b[0;34m(\u001b[0m\u001b[0mpd\u001b[0m\u001b[0;34m.\u001b[0m\u001b[0mread_csv\u001b[0m\u001b[0;34m(\u001b[0m\u001b[0mcsv_path\u001b[0m\u001b[0;34m)\u001b[0m\u001b[0;34m,\u001b[0m \u001b[0mdata_path\u001b[0m\u001b[0;34m=\u001b[0m\u001b[0mpath\u001b[0m\u001b[0;34m,\u001b[0m \u001b[0mn_workers\u001b[0m\u001b[0;34m=\u001b[0m\u001b[0mn_workers\u001b[0m\u001b[0;34m)\u001b[0m\u001b[0;34m)\u001b[0m\u001b[0;34m\u001b[0m\u001b[0;34m\u001b[0m\u001b[0m\n\u001b[0m\u001b[1;32m     15\u001b[0m     \u001b[0mintermediate_df\u001b[0m \u001b[0;34m=\u001b[0m \u001b[0mpd\u001b[0m\u001b[0;34m.\u001b[0m\u001b[0mconcat\u001b[0m\u001b[0;34m(\u001b[0m\u001b[0mdfs\u001b[0m\u001b[0;34m)\u001b[0m \u001b[0;32mif\u001b[0m \u001b[0mlen\u001b[0m\u001b[0;34m(\u001b[0m\u001b[0mdfs\u001b[0m\u001b[0;34m)\u001b[0m \u001b[0;34m>\u001b[0m \u001b[0;36m1\u001b[0m \u001b[0;32melse\u001b[0m \u001b[0mdfs\u001b[0m\u001b[0;34m[\u001b[0m\u001b[0;36m0\u001b[0m\u001b[0;34m]\u001b[0m\u001b[0;34m\u001b[0m\u001b[0;34m\u001b[0m\u001b[0m\n\u001b[1;32m     16\u001b[0m \u001b[0;34m\u001b[0m\u001b[0m\n",
      "\u001b[0;32m<ipython-input-22-ead99bc2b061>\u001b[0m in \u001b[0;36mprocess_df\u001b[0;34m(df, data_path, n_workers)\u001b[0m\n\u001b[1;32m      3\u001b[0m     \u001b[0;34m\"\"\"Applies `process_df_helper` in parallel across df.\"\"\"\u001b[0m\u001b[0;34m\u001b[0m\u001b[0;34m\u001b[0m\u001b[0m\n\u001b[1;32m      4\u001b[0m     \u001b[0mproc_func\u001b[0m \u001b[0;34m=\u001b[0m \u001b[0mpartial\u001b[0m\u001b[0;34m(\u001b[0m\u001b[0mprocess_df_helper\u001b[0m\u001b[0;34m,\u001b[0m \u001b[0mdata_path\u001b[0m\u001b[0;34m=\u001b[0m\u001b[0mpath\u001b[0m\u001b[0;34m)\u001b[0m\u001b[0;34m\u001b[0m\u001b[0;34m\u001b[0m\u001b[0m\n\u001b[0;32m----> 5\u001b[0;31m     \u001b[0mchunks\u001b[0m \u001b[0;34m=\u001b[0m \u001b[0mnp\u001b[0m\u001b[0;34m.\u001b[0m\u001b[0marray_split\u001b[0m\u001b[0;34m(\u001b[0m\u001b[0mdf\u001b[0m\u001b[0;34m,\u001b[0m \u001b[0mint\u001b[0m\u001b[0;34m(\u001b[0m\u001b[0mlen\u001b[0m\u001b[0;34m(\u001b[0m\u001b[0mdf\u001b[0m\u001b[0;34m/\u001b[0m\u001b[0;36m100\u001b[0m\u001b[0;34m)\u001b[0m\u001b[0;34m)\u001b[0m\u001b[0;34m)\u001b[0m\u001b[0;34m\u001b[0m\u001b[0;34m\u001b[0m\u001b[0m\n\u001b[0m\u001b[1;32m      6\u001b[0m     \u001b[0;32mwith\u001b[0m \u001b[0mProcessPoolExecutor\u001b[0m\u001b[0;34m(\u001b[0m\u001b[0mmax_workers\u001b[0m\u001b[0;34m=\u001b[0m\u001b[0mn_workers\u001b[0m\u001b[0;34m)\u001b[0m \u001b[0;32mas\u001b[0m \u001b[0mex\u001b[0m\u001b[0;34m:\u001b[0m\u001b[0;34m\u001b[0m\u001b[0;34m\u001b[0m\u001b[0m\n\u001b[1;32m      7\u001b[0m         \u001b[0mres\u001b[0m \u001b[0;34m=\u001b[0m \u001b[0mex\u001b[0m\u001b[0;34m.\u001b[0m\u001b[0mmap\u001b[0m\u001b[0;34m(\u001b[0m\u001b[0mproc_func\u001b[0m\u001b[0;34m,\u001b[0m \u001b[0mchunks\u001b[0m\u001b[0;34m)\u001b[0m\u001b[0;34m\u001b[0m\u001b[0;34m\u001b[0m\u001b[0m\n",
      "\u001b[0;32m<__array_function__ internals>\u001b[0m in \u001b[0;36marray_split\u001b[0;34m(*args, **kwargs)\u001b[0m\n",
      "\u001b[0;32m~/miniconda3/lib/python3.8/site-packages/numpy/lib/shape_base.py\u001b[0m in \u001b[0;36marray_split\u001b[0;34m(ary, indices_or_sections, axis)\u001b[0m\n\u001b[1;32m    788\u001b[0m         \u001b[0mst\u001b[0m \u001b[0;34m=\u001b[0m \u001b[0mdiv_points\u001b[0m\u001b[0;34m[\u001b[0m\u001b[0mi\u001b[0m\u001b[0;34m]\u001b[0m\u001b[0;34m\u001b[0m\u001b[0;34m\u001b[0m\u001b[0m\n\u001b[1;32m    789\u001b[0m         \u001b[0mend\u001b[0m \u001b[0;34m=\u001b[0m \u001b[0mdiv_points\u001b[0m\u001b[0;34m[\u001b[0m\u001b[0mi\u001b[0m \u001b[0;34m+\u001b[0m \u001b[0;36m1\u001b[0m\u001b[0;34m]\u001b[0m\u001b[0;34m\u001b[0m\u001b[0;34m\u001b[0m\u001b[0m\n\u001b[0;32m--> 790\u001b[0;31m         \u001b[0msub_arys\u001b[0m\u001b[0;34m.\u001b[0m\u001b[0mappend\u001b[0m\u001b[0;34m(\u001b[0m\u001b[0m_nx\u001b[0m\u001b[0;34m.\u001b[0m\u001b[0mswapaxes\u001b[0m\u001b[0;34m(\u001b[0m\u001b[0msary\u001b[0m\u001b[0;34m[\u001b[0m\u001b[0mst\u001b[0m\u001b[0;34m:\u001b[0m\u001b[0mend\u001b[0m\u001b[0;34m]\u001b[0m\u001b[0;34m,\u001b[0m \u001b[0maxis\u001b[0m\u001b[0;34m,\u001b[0m \u001b[0;36m0\u001b[0m\u001b[0;34m)\u001b[0m\u001b[0;34m)\u001b[0m\u001b[0;34m\u001b[0m\u001b[0;34m\u001b[0m\u001b[0m\n\u001b[0m\u001b[1;32m    791\u001b[0m \u001b[0;34m\u001b[0m\u001b[0m\n\u001b[1;32m    792\u001b[0m     \u001b[0;32mreturn\u001b[0m \u001b[0msub_arys\u001b[0m\u001b[0;34m\u001b[0m\u001b[0;34m\u001b[0m\u001b[0m\n",
      "\u001b[0;32m~/miniconda3/lib/python3.8/site-packages/pandas/core/frame.py\u001b[0m in \u001b[0;36m__getitem__\u001b[0;34m(self, key)\u001b[0m\n\u001b[1;32m   3005\u001b[0m             \u001b[0;31m# either we have a slice or we have a string that can be converted\u001b[0m\u001b[0;34m\u001b[0m\u001b[0;34m\u001b[0m\u001b[0;34m\u001b[0m\u001b[0m\n\u001b[1;32m   3006\u001b[0m             \u001b[0;31m#  to a slice for partial-string date indexing\u001b[0m\u001b[0;34m\u001b[0m\u001b[0;34m\u001b[0m\u001b[0;34m\u001b[0m\u001b[0m\n\u001b[0;32m-> 3007\u001b[0;31m             \u001b[0;32mreturn\u001b[0m \u001b[0mself\u001b[0m\u001b[0;34m.\u001b[0m\u001b[0m_slice\u001b[0m\u001b[0;34m(\u001b[0m\u001b[0mindexer\u001b[0m\u001b[0;34m,\u001b[0m \u001b[0maxis\u001b[0m\u001b[0;34m=\u001b[0m\u001b[0;36m0\u001b[0m\u001b[0;34m)\u001b[0m\u001b[0;34m\u001b[0m\u001b[0;34m\u001b[0m\u001b[0m\n\u001b[0m\u001b[1;32m   3008\u001b[0m \u001b[0;34m\u001b[0m\u001b[0m\n\u001b[1;32m   3009\u001b[0m         \u001b[0;31m# Do we have a (boolean) DataFrame?\u001b[0m\u001b[0;34m\u001b[0m\u001b[0;34m\u001b[0m\u001b[0;34m\u001b[0m\u001b[0m\n",
      "\u001b[0;32m~/miniconda3/lib/python3.8/site-packages/pandas/core/generic.py\u001b[0m in \u001b[0;36m_slice\u001b[0;34m(self, slobj, axis)\u001b[0m\n\u001b[1;32m   3808\u001b[0m         \"\"\"\n\u001b[1;32m   3809\u001b[0m         \u001b[0;32massert\u001b[0m \u001b[0misinstance\u001b[0m\u001b[0;34m(\u001b[0m\u001b[0mslobj\u001b[0m\u001b[0;34m,\u001b[0m \u001b[0mslice\u001b[0m\u001b[0;34m)\u001b[0m\u001b[0;34m,\u001b[0m \u001b[0mtype\u001b[0m\u001b[0;34m(\u001b[0m\u001b[0mslobj\u001b[0m\u001b[0;34m)\u001b[0m\u001b[0;34m\u001b[0m\u001b[0;34m\u001b[0m\u001b[0m\n\u001b[0;32m-> 3810\u001b[0;31m         \u001b[0maxis\u001b[0m \u001b[0;34m=\u001b[0m \u001b[0mself\u001b[0m\u001b[0;34m.\u001b[0m\u001b[0m_get_block_manager_axis\u001b[0m\u001b[0;34m(\u001b[0m\u001b[0maxis\u001b[0m\u001b[0;34m)\u001b[0m\u001b[0;34m\u001b[0m\u001b[0;34m\u001b[0m\u001b[0m\n\u001b[0m\u001b[1;32m   3811\u001b[0m         \u001b[0mresult\u001b[0m \u001b[0;34m=\u001b[0m \u001b[0mself\u001b[0m\u001b[0;34m.\u001b[0m\u001b[0m_constructor\u001b[0m\u001b[0;34m(\u001b[0m\u001b[0mself\u001b[0m\u001b[0;34m.\u001b[0m\u001b[0m_mgr\u001b[0m\u001b[0;34m.\u001b[0m\u001b[0mget_slice\u001b[0m\u001b[0;34m(\u001b[0m\u001b[0mslobj\u001b[0m\u001b[0;34m,\u001b[0m \u001b[0maxis\u001b[0m\u001b[0;34m=\u001b[0m\u001b[0maxis\u001b[0m\u001b[0;34m)\u001b[0m\u001b[0;34m)\u001b[0m\u001b[0;34m\u001b[0m\u001b[0;34m\u001b[0m\u001b[0m\n\u001b[1;32m   3812\u001b[0m         \u001b[0mresult\u001b[0m \u001b[0;34m=\u001b[0m \u001b[0mresult\u001b[0m\u001b[0;34m.\u001b[0m\u001b[0m__finalize__\u001b[0m\u001b[0;34m(\u001b[0m\u001b[0mself\u001b[0m\u001b[0;34m)\u001b[0m\u001b[0;34m\u001b[0m\u001b[0;34m\u001b[0m\u001b[0m\n",
      "\u001b[0;32m~/miniconda3/lib/python3.8/site-packages/pandas/core/generic.py\u001b[0m in \u001b[0;36m_get_block_manager_axis\u001b[0;34m(cls, axis)\u001b[0m\n\u001b[1;32m    478\u001b[0m     \u001b[0;32mdef\u001b[0m \u001b[0m_get_block_manager_axis\u001b[0m\u001b[0;34m(\u001b[0m\u001b[0mcls\u001b[0m\u001b[0;34m,\u001b[0m \u001b[0maxis\u001b[0m\u001b[0;34m:\u001b[0m \u001b[0mAxis\u001b[0m\u001b[0;34m)\u001b[0m \u001b[0;34m->\u001b[0m \u001b[0mint\u001b[0m\u001b[0;34m:\u001b[0m\u001b[0;34m\u001b[0m\u001b[0;34m\u001b[0m\u001b[0m\n\u001b[1;32m    479\u001b[0m         \u001b[0;34m\"\"\"Map the axis to the block_manager axis.\"\"\"\u001b[0m\u001b[0;34m\u001b[0m\u001b[0;34m\u001b[0m\u001b[0m\n\u001b[0;32m--> 480\u001b[0;31m         \u001b[0maxis\u001b[0m \u001b[0;34m=\u001b[0m \u001b[0mcls\u001b[0m\u001b[0;34m.\u001b[0m\u001b[0m_get_axis_number\u001b[0m\u001b[0;34m(\u001b[0m\u001b[0maxis\u001b[0m\u001b[0;34m)\u001b[0m\u001b[0;34m\u001b[0m\u001b[0;34m\u001b[0m\u001b[0m\n\u001b[0m\u001b[1;32m    481\u001b[0m         \u001b[0;32mif\u001b[0m \u001b[0mcls\u001b[0m\u001b[0;34m.\u001b[0m\u001b[0m_AXIS_REVERSED\u001b[0m\u001b[0;34m:\u001b[0m\u001b[0;34m\u001b[0m\u001b[0;34m\u001b[0m\u001b[0m\n\u001b[1;32m    482\u001b[0m             \u001b[0mm\u001b[0m \u001b[0;34m=\u001b[0m \u001b[0mcls\u001b[0m\u001b[0;34m.\u001b[0m\u001b[0m_AXIS_LEN\u001b[0m \u001b[0;34m-\u001b[0m \u001b[0;36m1\u001b[0m\u001b[0;34m\u001b[0m\u001b[0;34m\u001b[0m\u001b[0m\n",
      "\u001b[0;32m~/miniconda3/lib/python3.8/site-packages/pandas/core/generic.py\u001b[0m in \u001b[0;36m_get_axis_number\u001b[0;34m(cls, axis)\u001b[0m\n\u001b[1;32m    458\u001b[0m     \u001b[0;32mdef\u001b[0m \u001b[0m_get_axis_number\u001b[0m\u001b[0;34m(\u001b[0m\u001b[0mcls\u001b[0m\u001b[0;34m,\u001b[0m \u001b[0maxis\u001b[0m\u001b[0;34m:\u001b[0m \u001b[0mAxis\u001b[0m\u001b[0;34m)\u001b[0m \u001b[0;34m->\u001b[0m \u001b[0mint\u001b[0m\u001b[0;34m:\u001b[0m\u001b[0;34m\u001b[0m\u001b[0;34m\u001b[0m\u001b[0m\n\u001b[1;32m    459\u001b[0m         \u001b[0;32mtry\u001b[0m\u001b[0;34m:\u001b[0m\u001b[0;34m\u001b[0m\u001b[0;34m\u001b[0m\u001b[0m\n\u001b[0;32m--> 460\u001b[0;31m             \u001b[0;32mreturn\u001b[0m \u001b[0mcls\u001b[0m\u001b[0;34m.\u001b[0m\u001b[0m_AXIS_TO_AXIS_NUMBER\u001b[0m\u001b[0;34m[\u001b[0m\u001b[0maxis\u001b[0m\u001b[0;34m]\u001b[0m\u001b[0;34m\u001b[0m\u001b[0;34m\u001b[0m\u001b[0m\n\u001b[0m\u001b[1;32m    461\u001b[0m         \u001b[0;32mexcept\u001b[0m \u001b[0mKeyError\u001b[0m\u001b[0;34m:\u001b[0m\u001b[0;34m\u001b[0m\u001b[0;34m\u001b[0m\u001b[0m\n\u001b[1;32m    462\u001b[0m             \u001b[0;32mraise\u001b[0m \u001b[0mValueError\u001b[0m\u001b[0;34m(\u001b[0m\u001b[0;34mf\"No axis named {axis} for object type {cls.__name__}\"\u001b[0m\u001b[0;34m)\u001b[0m\u001b[0;34m\u001b[0m\u001b[0;34m\u001b[0m\u001b[0m\n",
      "\u001b[0;31mKeyboardInterrupt\u001b[0m: "
     ]
    }
   ],
   "source": [
    "#slow\n",
    "%time multiple_categories_df, in_train_and_test_df, both_df = find_duplicates(path)"
   ]
  },
  {
   "cell_type": "code",
   "execution_count": null,
   "id": "aboriginal-account",
   "metadata": {},
   "outputs": [
    {
     "name": "stdout",
     "output_type": "stream",
     "text": [
      "Converted 00_core.ipynb.\n",
      "Converted 01_find_duplicates.ipynb.\n",
      "Converted index.ipynb.\n"
     ]
    }
   ],
   "source": [
    "#hide\n",
    "from nbdev.export import notebook2script; notebook2script()"
   ]
  },
  {
   "cell_type": "code",
   "execution_count": null,
   "id": "distinct-treasury",
   "metadata": {},
   "outputs": [],
   "source": []
  }
 ],
 "metadata": {
  "kernelspec": {
   "display_name": "Python 3",
   "language": "python",
   "name": "python3"
  }
 },
 "nbformat": 4,
 "nbformat_minor": 5
}
