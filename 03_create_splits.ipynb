{
 "cells": [
  {
   "cell_type": "code",
   "execution_count": null,
   "id": "eleven-thesis",
   "metadata": {},
   "outputs": [],
   "source": [
    "#default_exp create_splits"
   ]
  },
  {
   "cell_type": "markdown",
   "id": "opened-clone",
   "metadata": {},
   "source": [
    "# Create Splits\n",
    "\n",
    "> Create train and validation splits, split on the product-level rather than image-level."
   ]
  },
  {
   "cell_type": "markdown",
   "id": "sapphire-northwest",
   "metadata": {},
   "source": [
    "## Overview\n",
    "\n",
    "Since we have a large dataset, we will do **hold-out set** based validation. Our large dataset allows us to get a good estimate of our validation accuracy using just a single validation set (no need for cross-validation). Additionally, since our images are grouped into different products, we want to use a **Group** based form of splitting, to ensure images from a single product don't get spread across train and val."
   ]
  },
  {
   "cell_type": "code",
   "execution_count": null,
   "id": "disabled-definition",
   "metadata": {},
   "outputs": [],
   "source": []
  },
  {
   "cell_type": "markdown",
   "id": "limited-paint",
   "metadata": {},
   "source": [
    "## Check Class Distribution\n",
    "\n",
    "We check the class distribution to see if there is a large imbalance between classes. If there is, we should use **stratified** splitting to ensure that train and val both have a similar # of product's in each class. If there is no large imbalance, then nromal splitting should be fine. "
   ]
  },
  {
   "cell_type": "markdown",
   "id": "executive-exhibition",
   "metadata": {},
   "source": [
    "## Create Splits\n",
    "\n",
    "Now we create our splits, grouping the individual images by product. (Or we could just do splits on the product-level CSV). Check out *GroupKFold* and *GroupShuffleSplit*. \n",
    "\n",
    "Probably better to just split on product-level CSV to get:\n",
    "\n",
    "|product_id|category_id|is_valid|\n",
    "|---|---|---|\n",
    "|12423453|0001212232|True|\n",
    "\n",
    "Then, use product-level CSV to add `is_valid` to image-level CSV.\n",
    "\n",
    "|image_name|category_id|is_valid|\n",
    "|---|---|---|\n",
    "|12423453_0.jpg|0001212232|True|"
   ]
  },
  {
   "cell_type": "markdown",
   "id": "cultural-duncan",
   "metadata": {},
   "source": [
    "## Save Split CSVs\n",
    "\n",
    "Add `is_valid` column to CSVs to designate validation set."
   ]
  },
  {
   "cell_type": "code",
   "execution_count": null,
   "id": "guilty-angola",
   "metadata": {},
   "outputs": [],
   "source": []
  }
 ],
 "metadata": {
  "kernelspec": {
   "display_name": "Python 3",
   "language": "python",
   "name": "python3"
  }
 },
 "nbformat": 4,
 "nbformat_minor": 5
}
